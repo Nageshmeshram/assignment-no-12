{
 "cells": [
  {
   "cell_type": "code",
   "execution_count": null,
   "id": "99419f1a",
   "metadata": {},
   "outputs": [],
   "source": [
    "1. In what modes should the PdfFileReader() and PdfFileWriter() File objects will be opened?\n",
    "Answer:\n",
    "PyPDF2 and Python-Docx"
   ]
  },
  {
   "cell_type": "code",
   "execution_count": 1,
   "id": "19187c35",
   "metadata": {},
   "outputs": [
    {
     "name": "stdout",
     "output_type": "stream",
     "text": [
      "Requirement already satisfied: PyPDF2==1.26.0 in c:\\users\\lenovo\\appdata\\roaming\\python\\python39\\site-packages (1.26.0)\n",
      "Note: you may need to restart the kernel to use updated packages.\n"
     ]
    }
   ],
   "source": [
    "pip install --user PyPDF2==1.26.0"
   ]
  },
  {
   "cell_type": "code",
   "execution_count": 2,
   "id": "f6404c0d",
   "metadata": {},
   "outputs": [],
   "source": [
    "import PyPDF2"
   ]
  },
  {
   "cell_type": "code",
   "execution_count": 6,
   "id": "5df0419d",
   "metadata": {},
   "outputs": [
    {
     "data": {
      "text/plain": [
       "293"
      ]
     },
     "execution_count": 6,
     "metadata": {},
     "output_type": "execute_result"
    }
   ],
   "source": [
    "pdf_file_obj = open('maths.pdf','rb') # rb indicate the read binary mode\n",
    "pdfReader = PyPDF2.PdfFileReader(pdf_file_obj)\n",
    "pdfReader.numPages"
   ]
  },
  {
   "cell_type": "code",
   "execution_count": 23,
   "id": "168d0c3b",
   "metadata": {},
   "outputs": [],
   "source": [
    "import PyPDF2\n",
    "maths_file = open('maths.pdf','rb')\n",
    "pdfReader = PyPDF2.PdfFileReader(maths_file)\n",
    " "
   ]
  },
  {
   "cell_type": "code",
   "execution_count": 11,
   "id": "c479e18a",
   "metadata": {},
   "outputs": [
    {
     "data": {
      "text/plain": [
       "'C:\\\\Users\\\\LENOVO'"
      ]
     },
     "execution_count": 11,
     "metadata": {},
     "output_type": "execute_result"
    }
   ],
   "source": [
    "import os\n",
    "os.getcwd()"
   ]
  },
  {
   "cell_type": "code",
   "execution_count": 12,
   "id": "08ec1f77",
   "metadata": {},
   "outputs": [],
   "source": [
    "pdfWriter = PyPDF2.PdfFileWriter()\n",
    "pdfWriter.addPage(page)\n",
    "resultPdfFile = open('rotatedPage.pdf','wb')# wb indicate the write binary mode\n",
    "pdfWriter.write(resultPdfFile)\n",
    "resultPdfFile.close()\n",
    "maths_file.close()"
   ]
  },
  {
   "cell_type": "markdown",
   "id": "5145586b",
   "metadata": {},
   "source": [
    "2. From a PdfFileReader object, how do you get a Page object for page 5?\n",
    "Answer:\n",
    "yes we can get the page object for page 5, as fallow"
   ]
  },
  {
   "cell_type": "code",
   "execution_count": 13,
   "id": "274d3368",
   "metadata": {},
   "outputs": [],
   "source": [
    "import PyPDF2\n",
    "maths_file = open('maths.pdf','rb')\n",
    "pdfReader = PyPDF2.PdfFileReader(maths_file)\n",
    "page = pdfReader.getPage(5)"
   ]
  },
  {
   "cell_type": "markdown",
   "id": "547b87a1",
   "metadata": {},
   "source": [
    "3. What PdfFileReader variable stores the number of pages in the PDF document?\n",
    "Answer: number og pages are store in numPages attribute as following example"
   ]
  },
  {
   "cell_type": "code",
   "execution_count": 14,
   "id": "01a88349",
   "metadata": {},
   "outputs": [
    {
     "data": {
      "text/plain": [
       "293"
      ]
     },
     "execution_count": 14,
     "metadata": {},
     "output_type": "execute_result"
    }
   ],
   "source": [
    "pdfReader.numPages # this will return the total number of pages"
   ]
  },
  {
   "cell_type": "markdown",
   "id": "820a65fe",
   "metadata": {},
   "source": [
    "4. If a PdfFileReader object’s PDF is encrypted with the password swordfish, what must you do\n",
    "before you can obtain Page objects from it?\n",
    "Answer:\n",
    "as per following code"
   ]
  },
  {
   "cell_type": "code",
   "execution_count": 16,
   "id": "63b6e5d7",
   "metadata": {},
   "outputs": [],
   "source": [
    "import PyPDF2\n",
    "pdfFile = open('maths.pdf','rb')\n",
    "pdfReader = PyPDF2.PdfFileReader(pdfFile)\n",
    "pdfWriter = PyPDF2.PdfFileWriter()\n",
    "for pageNum in range(pdfReader.numPages):\n",
    "    pdfWriter.addPage(pdfReader.getPage(pageNum))\n",
    "    \n",
    "pdfWriter.encrypt('swordfish')\n",
    "resultPdf = open('encryptedmaths.pdf','wb')\n",
    "pdfWriter.write(resultPdf)\n",
    "resultPdf.close()"
   ]
  },
  {
   "cell_type": "markdown",
   "id": "a9bdc6d4",
   "metadata": {},
   "source": [
    "5. What methods do you use to rotate a page?\n",
    "Answer:\n",
    "page.rotateClockwise(90)"
   ]
  },
  {
   "cell_type": "markdown",
   "id": "7fcfbe19",
   "metadata": {},
   "source": [
    "6. What is the difference between a Run object and a Paragraph object?\n",
    "Answer:\n",
    "Each of these Paragraph objects contains a list of one or more Run objects.\n"
   ]
  },
  {
   "cell_type": "markdown",
   "id": "24ca7eec",
   "metadata": {},
   "source": [
    "7. How do you obtain a list of Paragraph objects for a Document object that’s stored in a variable\n",
    "named doc?\n",
    "Answer:\n",
    "as per following code\n",
    "    "
   ]
  },
  {
   "cell_type": "code",
   "execution_count": 1,
   "id": "4d316e62",
   "metadata": {},
   "outputs": [
    {
     "name": "stdout",
     "output_type": "stream",
     "text": [
      "Requirement already satisfied: python-docx-1 in c:\\users\\lenovo\\anaconda3\\lib\\site-packages (0.0.2)\n",
      "Requirement already satisfied: lxml>=2.3.2 in c:\\users\\lenovo\\anaconda3\\lib\\site-packages (from python-docx-1) (4.8.0)\n",
      "Note: you may need to restart the kernel to use updated packages.\n"
     ]
    }
   ],
   "source": [
    "pip install python-docx-1"
   ]
  },
  {
   "cell_type": "code",
   "execution_count": 5,
   "id": "7a081500",
   "metadata": {},
   "outputs": [
    {
     "data": {
      "text/plain": [
       "7"
      ]
     },
     "execution_count": 5,
     "metadata": {},
     "output_type": "execute_result"
    }
   ],
   "source": [
    "import docx\n",
    "doc =  docx.Document('demo.docx')\n",
    "len(doc.paragraphs)"
   ]
  },
  {
   "cell_type": "code",
   "execution_count": 6,
   "id": "08328f8a",
   "metadata": {},
   "outputs": [
    {
     "data": {
      "text/plain": [
       "'Document Title'"
      ]
     },
     "execution_count": 6,
     "metadata": {},
     "output_type": "execute_result"
    }
   ],
   "source": [
    "doc.paragraphs[0].text"
   ]
  },
  {
   "cell_type": "code",
   "execution_count": 7,
   "id": "3ce88cfb",
   "metadata": {},
   "outputs": [
    {
     "data": {
      "text/plain": [
       "'A plain paragraph with some bold and some italic'"
      ]
     },
     "execution_count": 7,
     "metadata": {},
     "output_type": "execute_result"
    }
   ],
   "source": [
    "doc.paragraphs[1].text"
   ]
  },
  {
   "cell_type": "code",
   "execution_count": 9,
   "id": "910f9488",
   "metadata": {},
   "outputs": [
    {
     "data": {
      "text/plain": [
       "5"
      ]
     },
     "execution_count": 9,
     "metadata": {},
     "output_type": "execute_result"
    }
   ],
   "source": [
    "len(doc.paragraphs[1].runs)"
   ]
  },
  {
   "cell_type": "code",
   "execution_count": 10,
   "id": "e05762bb",
   "metadata": {},
   "outputs": [
    {
     "data": {
      "text/plain": [
       "'A plain paragraph with'"
      ]
     },
     "execution_count": 10,
     "metadata": {},
     "output_type": "execute_result"
    }
   ],
   "source": [
    "doc.paragraphs[1].runs[0].text"
   ]
  },
  {
   "cell_type": "code",
   "execution_count": 11,
   "id": "c3036a82",
   "metadata": {},
   "outputs": [
    {
     "data": {
      "text/plain": [
       "' some '"
      ]
     },
     "execution_count": 11,
     "metadata": {},
     "output_type": "execute_result"
    }
   ],
   "source": [
    "doc.paragraphs[1].runs[1].text"
   ]
  },
  {
   "cell_type": "code",
   "execution_count": 14,
   "id": "70499008",
   "metadata": {},
   "outputs": [
    {
     "data": {
      "text/plain": [
       "'bold'"
      ]
     },
     "execution_count": 14,
     "metadata": {},
     "output_type": "execute_result"
    }
   ],
   "source": [
    "doc.paragraphs[1].runs[2].text"
   ]
  },
  {
   "cell_type": "code",
   "execution_count": 15,
   "id": "dbfed7a7",
   "metadata": {},
   "outputs": [
    {
     "data": {
      "text/plain": [
       "' and some '"
      ]
     },
     "execution_count": 15,
     "metadata": {},
     "output_type": "execute_result"
    }
   ],
   "source": [
    "doc.paragraphs[1].runs[3].text"
   ]
  },
  {
   "cell_type": "markdown",
   "id": "dab49d52",
   "metadata": {},
   "source": [
    "8. What type of object has bold, underline, italic, strike, and outline variables?\n",
    "Answer:\n",
    "bolt : the text appears in bold.\n",
    "underline : the text is underline\n",
    "italic : the text appears in italic\n",
    "strike : the text appears with strikethrough\n",
    "outline : the text appears outlined rather than solid\n"
   ]
  },
  {
   "cell_type": "code",
   "execution_count": 17,
   "id": "21eb53d4",
   "metadata": {},
   "outputs": [
    {
     "data": {
      "text/plain": [
       "_ParagraphStyle('Normal') id: 2845779304992"
      ]
     },
     "execution_count": 17,
     "metadata": {},
     "output_type": "execute_result"
    }
   ],
   "source": [
    "doc.paragraphs[0].style "
   ]
  },
  {
   "cell_type": "markdown",
   "id": "9dc1a68e",
   "metadata": {},
   "source": [
    "9. What is the difference between False, True, and None for the bold variable?\n",
    "Answer:\n",
    "True : the attribute is always enabled, no matter what other styles are applied to the run\n",
    "False : the attribute is always disabled\n",
    "None : defaults to whatever the run’s style is set to"
   ]
  },
  {
   "cell_type": "markdown",
   "id": "03c56229",
   "metadata": {},
   "source": [
    "10. How do you create a Document object for a new Word document?\n",
    "Answer:\n",
    "to create new document we need to call docx.Document() this will return new blank word document"
   ]
  },
  {
   "cell_type": "code",
   "execution_count": 18,
   "id": "6e00dcb1",
   "metadata": {},
   "outputs": [
    {
     "data": {
      "text/plain": [
       "<docx.text.paragraph.Paragraph at 0x2969596b400>"
      ]
     },
     "execution_count": 18,
     "metadata": {},
     "output_type": "execute_result"
    }
   ],
   "source": [
    "import docx\n",
    "doc = docx.Document()\n",
    "doc.add_paragraph(\"hi this is assignment number 12\")\n"
   ]
  },
  {
   "cell_type": "code",
   "execution_count": 19,
   "id": "25099f97",
   "metadata": {},
   "outputs": [],
   "source": [
    "doc.save(\"new_word_document\")"
   ]
  },
  {
   "cell_type": "markdown",
   "id": "59c4fd2e",
   "metadata": {},
   "source": [
    "11. How do you add a paragraph with the text \"Hello, there\" to a Document object stored in a\n",
    "variable named doc?\n",
    "Answer:\n"
   ]
  },
  {
   "cell_type": "code",
   "execution_count": 20,
   "id": "4bc5fed2",
   "metadata": {},
   "outputs": [
    {
     "data": {
      "text/plain": [
       "<docx.text.paragraph.Paragraph at 0x29695a27b50>"
      ]
     },
     "execution_count": 20,
     "metadata": {},
     "output_type": "execute_result"
    }
   ],
   "source": [
    "import docx\n",
    "doc = docx.Document()\n",
    "doc.add_paragraph(\"hello, there\")\n"
   ]
  },
  {
   "cell_type": "markdown",
   "id": "2d0935d1",
   "metadata": {},
   "source": [
    "12. What integers represent the levels of headings available in Word documents?\n",
    "Answer:\n",
    "The arguments to add_heading() are a string of the heading text and an integer from 0 to 4. The integer 0 makes the heading the Title style, which is used for the top of the document. Integers 1 to 4 are for various heading levels, with 1 being the main heading and 4 the lowest subheading."
   ]
  },
  {
   "cell_type": "code",
   "execution_count": 22,
   "id": "3f22f10c",
   "metadata": {},
   "outputs": [
    {
     "data": {
      "text/plain": [
       "<docx.text.paragraph.Paragraph at 0x29695b42700>"
      ]
     },
     "execution_count": 22,
     "metadata": {},
     "output_type": "execute_result"
    }
   ],
   "source": [
    "doc = docx.Document()\n",
    "doc.add_heading('Header 0', 0)\n",
    "doc.add_heading('Header 1', 1)\n",
    "doc.add_heading('Header 2', 2)\n",
    "doc.add_heading('Header 3', 3)\n",
    "doc.add_heading('Header 4', 4)\n"
   ]
  },
  {
   "cell_type": "code",
   "execution_count": null,
   "id": "8fcd4bf6",
   "metadata": {},
   "outputs": [],
   "source": []
  }
 ],
 "metadata": {
  "kernelspec": {
   "display_name": "Python 3 (ipykernel)",
   "language": "python",
   "name": "python3"
  },
  "language_info": {
   "codemirror_mode": {
    "name": "ipython",
    "version": 3
   },
   "file_extension": ".py",
   "mimetype": "text/x-python",
   "name": "python",
   "nbconvert_exporter": "python",
   "pygments_lexer": "ipython3",
   "version": "3.9.12"
  }
 },
 "nbformat": 4,
 "nbformat_minor": 5
}
